{
 "cells": [
  {
   "cell_type": "code",
   "execution_count": 29,
   "metadata": {},
   "outputs": [
    {
     "name": "stdout",
     "output_type": "stream",
     "text": [
      "🔄 Fetching Season 1...\n",
      "🔄 Fetching Season 2...\n",
      "🔄 Fetching Season 3...\n",
      "🔄 Fetching Season 4...\n",
      "🔄 Fetching Season 5...\n",
      "🔄 Fetching Season 6...\n",
      "🔄 Fetching Season 7...\n",
      "🔄 Fetching Season 8...\n",
      "🔄 Fetching Season 9...\n",
      "\n",
      "✅ Finished! 188 episodes saved to the_office_episodes.csv\n"
     ]
    }
   ],
   "source": [
    "import requests\n",
    "import csv\n",
    "import time\n",
    "\n",
    "API_KEY = 'e607f4b' \n",
    "SHOW_TITLE = 'The Office'\n",
    "TOTAL_SEASONS = 9  \n",
    "OUTPUT_FILE = 'the_office_episodes.csv'\n",
    "\n",
    "# Define the CSV headers\n",
    "csv_headers = ['Season', 'Episode', 'Title', 'Released', 'imdbRating', 'Plot', 'Director', 'Writer', 'Actors', 'imdbID']\n",
    "\n",
    "all_episodes = []\n",
    "\n",
    "for season in range(1, TOTAL_SEASONS + 1):\n",
    "    print(f\"🔄 Fetching Season {season}...\")\n",
    "\n",
    "    # Fetch all episodes for the season\n",
    "    season_url = f\"http://www.omdbapi.com/?t={SHOW_TITLE}&Season={season}&apikey={API_KEY}\"\n",
    "    season_data = requests.get(season_url).json()\n",
    "\n",
    "    if 'Episodes' not in season_data:\n",
    "        print(f\"❌ Could not fetch season {season}. Skipping.\")\n",
    "        continue\n",
    "\n",
    "    for ep in season_data['Episodes']:\n",
    "        imdb_id = ep.get('imdbID')\n",
    "\n",
    "        # Fetch detailed info for the episode\n",
    "        details_url = f\"http://www.omdbapi.com/?i={imdb_id}&apikey={API_KEY}\"\n",
    "        ep_details = requests.get(details_url).json()\n",
    "\n",
    "        # Append episode data\n",
    "        all_episodes.append({\n",
    "            'Season': season,\n",
    "            'Episode': ep.get('Episode'),\n",
    "            'Title': ep_details.get('Title'),\n",
    "            'Released': ep_details.get('Released'),\n",
    "            'imdbRating': ep_details.get('imdbRating'),\n",
    "            'Plot': ep_details.get('Plot'),\n",
    "            'Director': ep_details.get('Director'),\n",
    "            'Writer': ep_details.get('Writer'),\n",
    "            'Actors': ep_details.get('Actors'),\n",
    "            'imdbID': imdb_id\n",
    "        })\n",
    "\n",
    "        # Optional: Be polite to the API server\n",
    "        time.sleep(0.3)\n",
    "\n",
    "# Save to CSV\n",
    "with open(OUTPUT_FILE, 'w', newline='', encoding='utf-8') as f:\n",
    "    writer = csv.DictWriter(f, fieldnames=csv_headers)\n",
    "    writer.writeheader()\n",
    "    writer.writerows(all_episodes)\n",
    "\n",
    "print(f\"\\n✅ Finished! {len(all_episodes)} episodes saved to {OUTPUT_FILE}\")\n"
   ]
  }
 ],
 "metadata": {
  "kernelspec": {
   "display_name": "Python 3",
   "language": "python",
   "name": "python3"
  },
  "language_info": {
   "codemirror_mode": {
    "name": "ipython",
    "version": 3
   },
   "file_extension": ".py",
   "mimetype": "text/x-python",
   "name": "python",
   "nbconvert_exporter": "python",
   "pygments_lexer": "ipython3",
   "version": "3.13.1"
  }
 },
 "nbformat": 4,
 "nbformat_minor": 2
}
